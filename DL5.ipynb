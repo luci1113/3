{
 "cells": [
  {
   "cell_type": "code",
   "execution_count": 12,
   "metadata": {},
   "outputs": [],
   "source": [
    "# code % matplotlib inline\n",
    "import tensorflow as tf\n",
    "from tensorflow import keras\n",
    "import numpy as np\n",
    "import matplotlib.pyplot as plt\n",
    "from tqdm import tqdm\n",
    "from IPython import display\n",
    "\n",
    "\n"
   ]
  },
  {
   "cell_type": "code",
   "execution_count": 13,
   "metadata": {},
   "outputs": [
    {
     "data": {
      "text/plain": [
       "((60000, 28, 28), (10000, 28, 28))"
      ]
     },
     "execution_count": 13,
     "metadata": {},
     "output_type": "execute_result"
    }
   ],
   "source": [
    "(x_train, y_train), (x_test, y_test) = tf.keras.datasets.mnist.load_data()\n",
    "x_train = x_train.astype(np.float32) / 255.0\n",
    "x_test = x_test.astype(np.float32) / 255.0\n",
    "x_train.shape, x_test.shape\n"
   ]
  },
  {
   "cell_type": "code",
   "execution_count": 14,
   "metadata": {},
   "outputs": [
    {
     "data": {
      "image/png": "[encoded data removed]",
      "text/plain": [
       "<Figure size 1000x1000 with 25 Axes>"
      ]
     },
     "metadata": {},
     "output_type": "display_data"
    }
   ],
   "source": [
    "# We plot first 25 images of training dataset\n",
    "plt.figure(figsize =(10, 10))\n",
    "for i in range(25):\n",
    "\tplt.subplot(5, 5, i + 1)\n",
    "\tplt.xticks([])\n",
    "\tplt.yticks([])\n",
    "\tplt.grid(False)\n",
    "\tplt.imshow(x_train[i], cmap = plt.cm.binary)\n",
    "plt.show()\n"
   ]
  },
  {
   "cell_type": "code",
   "execution_count": 15,
   "metadata": {},
   "outputs": [],
   "source": [
    "# code\n",
    "batch_size = 32\n",
    "# This dataset fills a buffer with buffer_size elements,\n",
    "# then randomly samples elements from this buffer, \n",
    "# replacing the selected elements with new elements.\n",
    "def create_batch(x_train):\n",
    "    dataset = tf.data.Dataset.from_tensor_slices(x_train).shuffle(1000)\n",
    "# Combines consecutive elements of this dataset into batches.\n",
    "\n",
    "    dataset = dataset.batch(batch_size, drop_remainder = True).prefetch(1)\n",
    "# Creates a Dataset that prefetches elements from this dataset\n",
    "    return dataset\n"
   ]
  },
  {
   "cell_type": "code",
   "execution_count": 16,
   "metadata": {},
   "outputs": [
    {
     "name": "stdout",
     "output_type": "stream",
     "text": [
      "Model: \"sequential_4\"\n",
      "_________________________________________________________________\n",
      " Layer (type)                Output Shape              Param #   \n",
      "=================================================================\n",
      " dense_3 (Dense)             (None, 6272)              633472    \n",
      "                                                                 \n",
      " reshape_1 (Reshape)         (None, 7, 7, 128)         0         \n",
      "                                                                 \n",
      " batch_normalization_2 (Bat  (None, 7, 7, 128)         512       \n",
      " chNormalization)                                                \n",
      "                                                                 \n",
      " conv2d_transpose_2 (Conv2D  (None, 14, 14, 64)        204864    \n",
      " Transpose)                                                      \n",
      "                                                                 \n",
      " batch_normalization_3 (Bat  (None, 14, 14, 64)        256       \n",
      " chNormalization)                                                \n",
      "                                                                 \n",
      " conv2d_transpose_3 (Conv2D  (None, 28, 28, 1)         1601      \n",
      " Transpose)                                                      \n",
      "                                                                 \n",
      "=================================================================\n",
      "Total params: 840705 (3.21 MB)\n",
      "Trainable params: 840321 (3.21 MB)\n",
      "Non-trainable params: 384 (1.50 KB)\n",
      "_________________________________________________________________\n"
     ]
    }
   ],
   "source": [
    "# code\n",
    "num_features = 100\n",
    "\n",
    "generator = keras.models.Sequential([\n",
    "\tkeras.layers.Dense(7 * 7 * 128, input_shape =[num_features]),\n",
    "\tkeras.layers.Reshape([7, 7, 128]),\n",
    "\tkeras.layers.BatchNormalization(),\n",
    "\tkeras.layers.Conv2DTranspose(\n",
    "\t\t64, (5, 5), (2, 2), padding =\"same\", activation =\"selu\"),\n",
    "\tkeras.layers.BatchNormalization(),\n",
    "\tkeras.layers.Conv2DTranspose(\n",
    "\t\t1, (5, 5), (2, 2), padding =\"same\", activation =\"tanh\"),\n",
    "])\n",
    "generator.summary()\n"
   ]
  },
  {
   "cell_type": "code",
   "execution_count": 17,
   "metadata": {},
   "outputs": [
    {
     "name": "stdout",
     "output_type": "stream",
     "text": [
      "Model: \"sequential_5\"\n",
      "_________________________________________________________________\n",
      " Layer (type)                Output Shape              Param #   \n",
      "=================================================================\n",
      " conv2d_4 (Conv2D)           (None, 14, 14, 64)        1664      \n",
      "                                                                 \n",
      " leaky_re_lu_4 (LeakyReLU)   (None, 14, 14, 64)        0         \n",
      "                                                                 \n",
      " dropout_4 (Dropout)         (None, 14, 14, 64)        0         \n",
      "                                                                 \n",
      " conv2d_5 (Conv2D)           (None, 7, 7, 128)         204928    \n",
      "                                                                 \n",
      " leaky_re_lu_5 (LeakyReLU)   (None, 7, 7, 128)         0         \n",
      "                                                                 \n",
      " dropout_5 (Dropout)         (None, 7, 7, 128)         0         \n",
      "                                                                 \n",
      " flatten_2 (Flatten)         (None, 6272)              0         \n",
      "                                                                 \n",
      " dense_4 (Dense)             (None, 1)                 6273      \n",
      "                                                                 \n",
      "=================================================================\n",
      "Total params: 212865 (831.50 KB)\n",
      "Trainable params: 212865 (831.50 KB)\n",
      "Non-trainable params: 0 (0.00 Byte)\n",
      "_________________________________________________________________\n"
     ]
    }
   ],
   "source": [
    "discriminator = keras.models.Sequential([\n",
    "\tkeras.layers.Conv2D(64, (5, 5), (2, 2), padding =\"same\", input_shape =[28, 28, 1]),\n",
    "\tkeras.layers.LeakyReLU(0.2),\n",
    "\tkeras.layers.Dropout(0.3),\n",
    "\tkeras.layers.Conv2D(128, (5, 5), (2, 2), padding =\"same\"),\n",
    "\tkeras.layers.LeakyReLU(0.2),\n",
    "\tkeras.layers.Dropout(0.3),\n",
    "\tkeras.layers.Flatten(),\n",
    "\tkeras.layers.Dense(1, activation ='sigmoid')\n",
    "])\n",
    "discriminator.summary()\n"
   ]
  },
  {
   "cell_type": "code",
   "execution_count": 18,
   "metadata": {},
   "outputs": [
    {
     "name": "stdout",
     "output_type": "stream",
     "text": [
      "Model: \"sequential_6\"\n",
      "_________________________________________________________________\n",
      " Layer (type)                Output Shape              Param #   \n",
      "=================================================================\n",
      " conv2d_6 (Conv2D)           (None, 14, 14, 64)        1664      \n",
      "                                                                 \n",
      " leaky_re_lu_6 (LeakyReLU)   (None, 14, 14, 64)        0         \n",
      "                                                                 \n",
      " dropout_6 (Dropout)         (None, 14, 14, 64)        0         \n",
      "                                                                 \n",
      " conv2d_7 (Conv2D)           (None, 7, 7, 128)         204928    \n",
      "                                                                 \n",
      " leaky_re_lu_7 (LeakyReLU)   (None, 7, 7, 128)         0         \n",
      "                                                                 \n",
      " dropout_7 (Dropout)         (None, 7, 7, 128)         0         \n",
      "                                                                 \n",
      " flatten_3 (Flatten)         (None, 6272)              0         \n",
      "                                                                 \n",
      " dense_5 (Dense)             (None, 1)                 6273      \n",
      "                                                                 \n",
      "=================================================================\n",
      "Total params: 212865 (831.50 KB)\n",
      "Trainable params: 212865 (831.50 KB)\n",
      "Non-trainable params: 0 (0.00 Byte)\n",
      "_________________________________________________________________\n"
     ]
    }
   ],
   "source": [
    "discriminator = keras.models.Sequential([\n",
    "\tkeras.layers.Conv2D(64, (5, 5), (2, 2), padding =\"same\", input_shape =[28, 28, 1]),\n",
    "\tkeras.layers.LeakyReLU(0.2),\n",
    "\tkeras.layers.Dropout(0.3),\n",
    "\tkeras.layers.Conv2D(128, (5, 5), (2, 2), padding =\"same\"),\n",
    "\tkeras.layers.LeakyReLU(0.2),\n",
    "\tkeras.layers.Dropout(0.3),\n",
    "\tkeras.layers.Flatten(),\n",
    "\tkeras.layers.Dense(1, activation ='sigmoid')\n",
    "])\n",
    "discriminator.summary()\n"
   ]
  },
  {
   "cell_type": "code",
   "execution_count": 19,
   "metadata": {},
   "outputs": [],
   "source": [
    "# compile discriminator using binary cross entropy loss and adam optimizer\n",
    "discriminator.compile(loss =\"binary_crossentropy\", optimizer =\"adam\")\n",
    "# make discriminator no-trainable as of now\n",
    "discriminator.trainable = False\n",
    "# Combine both generator and discriminator\n",
    "gan = keras.models.Sequential([generator, discriminator])\n",
    "# compile generator using binary cross entropy loss and adam optimizer\n",
    "\n",
    "gan.compile(loss =\"binary_crossentropy\", optimizer =\"adam\")\n"
   ]
  },
  {
   "cell_type": "code",
   "execution_count": 20,
   "metadata": {},
   "outputs": [],
   "source": [
    "seed = tf.random.normal(shape =[batch_size, 100])\n",
    "\n",
    "def train_dcgan(gan, dataset, batch_size, num_features, epochs = 5):\n",
    "\tgenerator, discriminator = gan.layers\n",
    "\tfor epoch in tqdm(range(epochs)):\n",
    "\t\tprint()\n",
    "\t\tprint(\"Epoch {}/{}\".format(epoch + 1, epochs))\n",
    "\n",
    "\t\tfor X_batch in dataset:\n",
    "\t\t\t# create a random noise of sizebatch_size * 100\n",
    "\t\t\t# to passit into the generator\n",
    "\t\t\tnoise = tf.random.normal(shape =[batch_size, num_features])\n",
    "\t\t\tgenerated_images = generator(noise)\n",
    "\n",
    "\t\t\t# take batch of generated image and real image and\n",
    "\t\t\t# use them to train the discriminator\n",
    "\t\t\tX_fake_and_real = tf.concat([generated_images, X_batch], axis = 0)\n",
    "\t\t\ty1 = tf.constant([[0.]] * batch_size + [[1.]] * batch_size)\n",
    "\t\t\tdiscriminator.trainable = True\n",
    "\t\t\tdiscriminator.train_on_batch(X_fake_and_real, y1)\n",
    "\n",
    "\t\t\t# Here we will be training our GAN model, in this step\n",
    "\t\t\t# we pass noise that uses generatortogenerate the image\n",
    "\t\t\t# and pass it with labels as [1] So, it can fool the discriminator\n",
    "\t\t\tnoise = tf.random.normal(shape =[batch_size, num_features])\n",
    "\t\t\ty2 = tf.constant([[1.]] * batch_size)\n",
    "\t\t\tdiscriminator.trainable = False\n",
    "\t\t\tgan.train_on_batch(noise, y2)\n",
    "\n",
    "\t\t\t# generate images for the GIF as we go\n",
    "\t\t\tgenerate_and_save_images(generator, epoch + 1, seed)\n",
    "\n",
    "\tgenerate_and_save_images(generator, epochs, seed)\n"
   ]
  },
  {
   "cell_type": "code",
   "execution_count": 21,
   "metadata": {},
   "outputs": [],
   "source": [
    "# code\n",
    "def generate_and_save_images(model, epoch, test_input):\n",
    "    predictions = model(test_input, training = False)\n",
    "    fig = plt.figure(figsize =(10, 10))\n",
    "\n",
    "    for i in range(25):\n",
    "        plt.subplot(5, 5, i + 1)\n",
    "        plt.imshow(predictions[i, :, :, 0] * 127.5 + 127.5, cmap ='binary')\n",
    "        plt.axis('off')\n",
    "\n",
    "    plt.savefig('image_epoch_{:04d}.png'.format(epoch))\n"
   ]
  },
  {
   "cell_type": "code",
   "execution_count": 22,
   "metadata": {},
   "outputs": [
    {
     "name": "stderr",
     "output_type": "stream",
     "text": [
      "  0%|          | 0/10 [00:00<?, ?it/s]"
     ]
    },
    {
     "name": "stdout",
     "output_type": "stream",
     "text": [
      "\n",
      "Epoch 1/10\n"
     ]
    },
    {
     "name": "stderr",
     "output_type": "stream",
     "text": [
      "C:\\Users\\hp\\AppData\\Local\\Temp\\ipykernel_2844\\4260443859.py:4: RuntimeWarning: More than 20 figures have been opened. Figures created through the pyplot interface (`matplotlib.pyplot.figure`) are retained until explicitly closed and may consume too much memory. (To control this warning, see the rcParam `figure.max_open_warning`). Consider using `matplotlib.pyplot.close()`.\n",
      "  fig = plt.figure(figsize =(10, 10))\n"
     ]
    }
   ],
   "source": [
    "# reshape to add a color map\n",
    "x_train_dcgan = x_train.reshape(-1, 28, 28, 1) * 2. - 1.\n",
    "# create batches\n",
    "dataset = create_batch(x_train_dcgan)\n",
    "# callthe training function with 10 epochs and record time %% time\n",
    "train_dcgan(gan, dataset, batch_size, num_features, epochs = 10)\n"
   ]
  },
  {
   "cell_type": "code",
   "execution_count": null,
   "metadata": {},
   "outputs": [],
   "source": [
    "import imageio\n",
    "import glob\n",
    "\n",
    "anim_file = 'dcgan_results.gif'\n",
    "\n",
    "with imageio.get_writer(anim_file, mode ='I') as writer:\n",
    "    filenames = glob.glob('image*.png')\n",
    "    filenames = sorted(filenames)\n",
    "    last = -1\n",
    "for i, filename in enumerate(filenames):\n",
    "\tframe = 2*(i)\n",
    "\tif round(frame) > round(last):\n",
    "\t\tlast = frame\n",
    "\telse:\n",
    "\t\tcontinue\n",
    "\timage = imageio.imread(filename)\n",
    "\twriter.append_data(image)\n",
    "image = imageio.imread(filename)\n",
    "writer.append_data(image)\n",
    "display.Image(filename = anim_file)\n"
   ]
  }
 ],
 "metadata": {
  "kernelspec": {
   "display_name": "Python 3",
   "language": "python",
   "name": "python3"
  },
  "language_info": {
   "codemirror_mode": {
    "name": "ipython",
    "version": 3
   },
   "file_extension": ".py",
   "mimetype": "text/x-python",
   "name": "python",
   "nbconvert_exporter": "python",
   "pygments_lexer": "ipython3",
   "version": "3.11.5"
  }
 },
 "nbformat": 4,
 "nbformat_minor": 2
}
